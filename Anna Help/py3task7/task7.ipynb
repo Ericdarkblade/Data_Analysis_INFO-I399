{
 "cells": [
  {
   "cell_type": "code",
   "execution_count": 2,
   "metadata": {},
   "outputs": [],
   "source": [
    "import numpy as np"
   ]
  },
  {
   "cell_type": "code",
   "execution_count": 3,
   "metadata": {},
   "outputs": [],
   "source": [
    "def load_data():\n",
    "    data = np.loadtxt('CRNH0203-2022-IN_Bedford_5_WNW.txt',\n",
    "                      usecols=(1, 2, 10, 11))\n",
    "\n",
    "    return data\n",
    "\n",
    "\n",
    "# This function will save an array as a csv file named \"output.csv\"\n",
    "# in your current working directory.\n",
    "# Call this funciton at the end of your main program to save your final\n",
    "# array as a csv.\n",
    "def export_data(array):\n",
    "    np.savetxt('output.csv', array, delimiter=',')"
   ]
  },
  {
   "cell_type": "code",
   "execution_count": 25,
   "metadata": {},
   "outputs": [],
   "source": [
    "data = load_data()\n",
    "date_column = 0\n",
    "time_column = 1\n",
    "max_temp_column = 2\n",
    "min_temp_column = 3\n",
    "\n",
    "\n",
    "def clean_column(temparute_column):\n",
    "    # Put this in a function so that this is easier\n",
    "\n",
    "    # Write function for special case row 0\n",
    "\n",
    "    top_row_temp = data[0][temparute_column]\n",
    "\n",
    "    # Clean Condition C\n",
    "    if top_row_temp == -9999:\n",
    "        for row_index in range(1, data.shape[0]):\n",
    "            current_temp = data[row_index][temparute_column]\n",
    "            if current_temp != -9999:\n",
    "                top_row_temp = current_temp\n",
    "                data[0][temparute_column] = top_row_temp  # Changing Array\n",
    "                break\n",
    "\n",
    "    # Iterates from row 1 to n\n",
    "    for row_index in range(1, data.shape[0]):\n",
    "        current_temp = data[row_index][temparute_column]\n",
    "        if current_temp == -9999:\n",
    "            temp_below = data[row_index + 1][temparute_column]\n",
    "            temp_above = data[row_index - 1][temparute_column]\n",
    "\n",
    "            # Clean Condition A\n",
    "            if temp_below != -9999:\n",
    "                new_temp = (temp_below + temp_above) / 2\n",
    "                data[row_index][temparute_column] = new_temp\n",
    "\n",
    "            # Clean Condition B\n",
    "            else:\n",
    "                new_temp = temp_above\n",
    "                data[row_index][temparute_column] = new_temp\n",
    "\n",
    "\n",
    "clean_column(max_temp_column)\n",
    "clean_column(min_temp_column)"
   ]
  },
  {
   "cell_type": "code",
   "execution_count": 23,
   "metadata": {},
   "outputs": [],
   "source": [
    "\n",
    "# Instructions say to use {16919}, which is too small. value should be {17519} b/c 8760 x 2 - 1 = 17519\n",
    "\n",
    "# -1 is needed so that every interpolated row has an original row above and below\n",
    "# else the last row is just a clone of the row above, thus not interpolated.\n",
    "\n",
    "interpolated_data = np.zeros((data.shape[0] * 2 - 1, 4))\n",
    "\n",
    "# Fill interpolated data with original data\n",
    "\n",
    "# Slicey dicey way\n",
    "# The line below slices every other row from the origianl array, and we just set the sliced array = to the old array. When the array is not sliced we get the data to be on every even row. This is actually kind of cool.\n",
    "\n",
    "interpolated_data[::2][:] = data\n",
    "\n",
    "# loops through all gap rows, which have a row above and below for interpolation\n",
    "\n",
    "for gap_row_i in range(1, interpolated_data.shape[0] - 1, 2):\n",
    "    interpolated_row = interpolated_data[gap_row_i]\n",
    "    interpolated_row_above = interpolated_data[gap_row_i - 1]\n",
    "    interpolated_row_below = interpolated_data[gap_row_i + 1]\n",
    "    # Copy Date Above\n",
    "\n",
    "    interpolated_row[date_column] = interpolated_row_above[date_column]\n",
    "    interpolated_row[time_column] = interpolated_row_above[time_column] + 30\n",
    "\n",
    "    # Average of Row Above and Below\n",
    "    interpolated_row[max_temp_column] = interpolated_row_above[max_temp_column] + \\\n",
    "        interpolated_row_below[max_temp_column] / 2\n",
    "    interpolated_row[min_temp_column] = interpolated_row_above[min_temp_column] + \\\n",
    "        interpolated_row_below[min_temp_column] / 2\n",
    "\n",
    "export_data(interpolated_data)"
   ]
  },
  {
   "cell_type": "code",
   "execution_count": null,
   "metadata": {},
   "outputs": [],
   "source": []
  }
 ],
 "metadata": {
  "kernelspec": {
   "display_name": "base",
   "language": "python",
   "name": "python3"
  },
  "language_info": {
   "codemirror_mode": {
    "name": "ipython",
    "version": 3
   },
   "file_extension": ".py",
   "mimetype": "text/x-python",
   "name": "python",
   "nbconvert_exporter": "python",
   "pygments_lexer": "ipython3",
   "version": "3.11.3"
  },
  "orig_nbformat": 4
 },
 "nbformat": 4,
 "nbformat_minor": 2
}
