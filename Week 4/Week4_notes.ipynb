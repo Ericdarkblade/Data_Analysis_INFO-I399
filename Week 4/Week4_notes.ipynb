{
 "cells": [
  {
   "cell_type": "code",
   "execution_count": 1,
   "metadata": {},
   "outputs": [],
   "source": [
    "import pandas as pd\n",
    "import numpy as np\n",
    "import matplotlib.pyplot as plt"
   ]
  },
  {
   "cell_type": "code",
   "execution_count": 68,
   "metadata": {},
   "outputs": [
    {
     "data": {
      "text/plain": [
       "(array([1., 3., 1., 0., 4., 5., 0., 2., 1., 3.]),\n",
       " array([ 4. ,  4.7,  5.4,  6.1,  6.8,  7.5,  8.2,  8.9,  9.6, 10.3, 11. ]),\n",
       " <BarContainer object of 10 artists>)"
      ]
     },
     "execution_count": 68,
     "metadata": {},
     "output_type": "execute_result"
    },
    {
     "data": {
      "image/png": "[encoded data removed]",
      "text/plain": [
       "<Figure size 640x480 with 1 Axes>"
      ]
     },
     "metadata": {},
     "output_type": "display_data"
    }
   ],
   "source": [
    "rolls = 20\n",
    "dice_roll = pd.DataFrame(data=np.zeros([rolls, 3]),\n",
    "                         index=([roll for roll in range(1, rolls + 1)]), columns=[\"Dice 1\", \"Dice 2\", \"Sum\"])\n",
    "for i in range(1, rolls + 1):\n",
    "    dice_1 = np.random.randint(1, 7)\n",
    "    dice_2 = np.random.randint(1, 7)\n",
    "    dice_roll['Dice 1'][i] = dice_1\n",
    "    dice_roll['Dice 2'][i] = dice_2\n",
    "    dice_roll['Sum'][i] = dice_1 + dice_2\n",
    "dice_roll\n",
    "\n",
    "plt.hist(dice_roll['Sum'])"
   ]
  },
  {
   "cell_type": "code",
   "execution_count": null,
   "metadata": {},
   "outputs": [],
   "source": []
  }
 ],
 "metadata": {
  "kernelspec": {
   "display_name": "ISLP",
   "language": "python",
   "name": "python3"
  },
  "language_info": {
   "codemirror_mode": {
    "name": "ipython",
    "version": 3
   },
   "file_extension": ".py",
   "mimetype": "text/x-python",
   "name": "python",
   "nbconvert_exporter": "python",
   "pygments_lexer": "ipython3",
   "version": "3.11.4"
  },
  "orig_nbformat": 4
 },
 "nbformat": 4,
 "nbformat_minor": 2
}
